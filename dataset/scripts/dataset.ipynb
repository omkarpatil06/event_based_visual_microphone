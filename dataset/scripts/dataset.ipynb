{
 "cells": [
  {
   "cell_type": "code",
   "execution_count": 1,
   "metadata": {},
   "outputs": [],
   "source": [
    "import sys\n",
    "import numpy as np\n",
    "import downsample_signal\n",
    "\n",
    "sys.path.insert(0, '/Users/omkarpatil/Documents/event_based_visual_microphone/utilities/')\n",
    "import utility_folders as uf"
   ]
  },
  {
   "cell_type": "code",
   "execution_count": 2,
   "metadata": {},
   "outputs": [],
   "source": [
    "duration = 3\n",
    "orignal_freq = 48000\n",
    "downsampling_freq = 8192\n",
    "dataset_path = '/Volumes/Omkar 5T/audio_dataset/test_dataset'\n",
    "save_path = '/Volumes/Omkar 5T/audio_dataset/test_label'"
   ]
  },
  {
   "cell_type": "code",
   "execution_count": 3,
   "metadata": {},
   "outputs": [],
   "source": [
    "downsample_signal.nonaliased_dsample_folder(dataset_path, save_path, duration, downsampling_freq, orignal_freq)"
   ]
  },
  {
   "cell_type": "code",
   "execution_count": 4,
   "metadata": {},
   "outputs": [],
   "source": [
    "downsampling_factor = 4\n",
    "label_path = '/Volumes/Omkar 5T/audio_dataset/test_label'\n",
    "data_path = '/Volumes/Omkar 5T/audio_dataset/test_data'"
   ]
  },
  {
   "cell_type": "code",
   "execution_count": 5,
   "metadata": {},
   "outputs": [],
   "source": [
    "downsample_signal.aliased_dsample_folder(label_path, data_path, duration, downsampling_factor, downsampling_freq)"
   ]
  },
  {
   "cell_type": "code",
   "execution_count": 6,
   "metadata": {},
   "outputs": [],
   "source": [
    "label_dataset_path = '/Volumes/Omkar 5T/audio_dataset/test_label/label.npy'\n",
    "data_dataset_path = '/Volumes/Omkar 5T/audio_dataset/test_data/data.npy'"
   ]
  },
  {
   "cell_type": "code",
   "execution_count": 7,
   "metadata": {},
   "outputs": [],
   "source": [
    "uf.combine_audio(label_path, label_dataset_path)\n",
    "uf.combine_audio(data_path, data_dataset_path)"
   ]
  },
  {
   "cell_type": "code",
   "execution_count": 17,
   "metadata": {},
   "outputs": [
    {
     "name": "stdout",
     "output_type": "stream",
     "text": [
      "(600, 4096, 1)\n",
      "(600, 4096, 1)\n",
      "(4096, 1)\n"
     ]
    }
   ],
   "source": [
    "X_train = np.load(label_dataset_path)\n",
    "y_train = np.load(data_dataset_path)\n",
    "print(X_train[:, :, np.newaxis].shape)\n",
    "print(y_train[:, :, np.newaxis].shape)"
   ]
  },
  {
   "cell_type": "code",
   "execution_count": 13,
   "metadata": {},
   "outputs": [],
   "source": [
    "uf.play_sound(X_train[0:10].flatten(), downsampling_freq)\n",
    "uf.play_sound(y_train[0:10].flatten(), downsampling_freq)"
   ]
  }
 ],
 "metadata": {
  "kernelspec": {
   "display_name": "Python 3",
   "language": "python",
   "name": "python3"
  },
  "language_info": {
   "codemirror_mode": {
    "name": "ipython",
    "version": 3
   },
   "file_extension": ".py",
   "mimetype": "text/x-python",
   "name": "python",
   "nbconvert_exporter": "python",
   "pygments_lexer": "ipython3",
   "version": "3.9.6"
  }
 },
 "nbformat": 4,
 "nbformat_minor": 2
}
