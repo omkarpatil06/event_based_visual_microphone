{
 "cells": [
  {
   "cell_type": "code",
   "execution_count": null,
   "metadata": {},
   "outputs": [],
   "source": [
    "import librosa\n",
    "import numpy as np\n",
    "import soundfile as sf"
   ]
  },
  {
   "cell_type": "code",
   "execution_count": null,
   "metadata": {},
   "outputs": [],
   "source": []
  },
  {
   "cell_type": "code",
   "execution_count": null,
   "metadata": {},
   "outputs": [],
   "source": [
    "audio, _ = sf.read(audio_filepath)\n",
    "audio = librosa.resample(audio, orig_sr=orignal_freq, target_sr=target_freq)\n",
    "\n",
    "total_length = len(audio)\n",
    "num_sections = total_length//int(duration*target_freq)\n",
    "audio = np.array(audio[:int(duration*target_freq)])\n",
    "audio = audio.reshape((num_sections, int(duration*target_freq)))\n",
    "audio = audio[:, :, np.newaxis]\n",
    "np.save(save_filepath, audio)"
   ]
  }
 ],
 "metadata": {
  "language_info": {
   "name": "python"
  }
 },
 "nbformat": 4,
 "nbformat_minor": 2
}
