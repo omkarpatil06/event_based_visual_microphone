{
 "cells": [
  {
   "cell_type": "markdown",
   "metadata": {},
   "source": [
    "# **Event Camera Simulator**"
   ]
  },
  {
   "cell_type": "code",
   "execution_count": 1,
   "metadata": {},
   "outputs": [],
   "source": [
    "import numpy as np\n",
    "import simulator_utils as camera"
   ]
  },
  {
   "cell_type": "code",
   "execution_count": 2,
   "metadata": {},
   "outputs": [],
   "source": [
    "from skimage import data\n",
    "import matplotlib.pyplot as plt\n",
    "\n",
    "image1 = data.astronaut()\n",
    "image2 = np.clip(image1 + np.random.normal(3, 10, image1.shape), 0, 255).astype(np.uint8)\n",
    "image3 = np.clip(image2 + np.random.normal(3, 10, image2.shape), 0, 255).astype(np.uint8)\n",
    "image4 = np.clip(image3 - np.random.normal(3, 10, image3.shape), 0, 255).astype(np.uint8)\n",
    "image5 = np.clip(image4 - np.random.normal(3, 10, image4.shape), 0, 255).astype(np.uint8)\n",
    "images = np.array([image1, image2, image3, image4, image5])"
   ]
  },
  {
   "cell_type": "markdown",
   "metadata": {},
   "source": [
    "#### **RGB Frames to Event Frames**\n",
    "This methos converts an RGB video frame from a conventional framing camera to event frames. \n",
    "- Convert RGB frame to a grayscale frame.\n",
    "- Converts grayscale frame to linear log frame.\n",
    "- Applies a low-pass filter based on intensity of frame to reproduce the band-pass filter nature of individual pixel circuit.\n",
    "- The low-pass frame is compared with the previous memorised frame to compute an event frame."
   ]
  },
  {
   "cell_type": "code",
   "execution_count": 3,
   "metadata": {},
   "outputs": [],
   "source": [
    "video_fps = 30\n",
    "sampling_period = 1/video_fps\n",
    "pos_thresh, neg_thresh = 0.2, 0.2\n",
    "pos_frames, neg_frames, evts_video = camera.event_video(images, sampling_period, pos_thresh, neg_thresh)"
   ]
  },
  {
   "cell_type": "markdown",
   "metadata": {},
   "source": [
    "#### **Event Frames to Event List**\n",
    "Converts an RGB frame into an events list, which is $N\\times4$ matrtix. The columns of the matrix are:\n",
    "- Column 1: Time of event.\n",
    "- Column 2: $x$ address of triggered pixel in frame.\n",
    "- Column 3: $y$ address of triggered pixel in frame.\n",
    "- Column 4: Polarity of triggered pixel in frame."
   ]
  },
  {
   "cell_type": "code",
   "execution_count": 4,
   "metadata": {},
   "outputs": [],
   "source": [
    "event_list = camera.event_list(pos_frames, neg_frames, sampling_period)"
   ]
  },
  {
   "cell_type": "markdown",
   "metadata": {},
   "source": [
    "#### **Event List to Event Frames**\n",
    "Converts an events list back to event frames by producing a histogram and normalising it."
   ]
  },
  {
   "cell_type": "code",
   "execution_count": 5,
   "metadata": {},
   "outputs": [],
   "source": [
    "frames = camera.events_list_frames(event_list, 512, 512, sampling_period)"
   ]
  }
 ],
 "metadata": {
  "kernelspec": {
   "display_name": "Python 3",
   "language": "python",
   "name": "python3"
  },
  "language_info": {
   "codemirror_mode": {
    "name": "ipython",
    "version": 3
   },
   "file_extension": ".py",
   "mimetype": "text/x-python",
   "name": "python",
   "nbconvert_exporter": "python",
   "pygments_lexer": "ipython3",
   "version": "3.9.6"
  }
 },
 "nbformat": 4,
 "nbformat_minor": 2
}
