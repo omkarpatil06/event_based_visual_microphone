{
 "cells": [
  {
   "cell_type": "markdown",
   "metadata": {},
   "source": [
    "# Split Video into Windows\n",
    "\n",
    "This script allows to extract a window inside a video."
   ]
  },
  {
   "cell_type": "code",
   "execution_count": 1,
   "metadata": {},
   "outputs": [],
   "source": [
    "import sys\n",
    "sys.path.insert(0, '/Users/omkarpatil/Documents/event_based_visual_microphone/utilities/')\n",
    "import video_frames as vf"
   ]
  },
  {
   "cell_type": "markdown",
   "metadata": {},
   "source": [
    "<span style=\"color:red\"> Provide all the necessary information bellow: </span>\n",
    "\n",
    "`w_point`: starting point interms of frame width\n",
    "\n",
    "`h_point`: starting point interms of frame height\n",
    "\n",
    "`window_dim`: window dimensions"
   ]
  },
  {
   "cell_type": "code",
   "execution_count": 2,
   "metadata": {},
   "outputs": [],
   "source": [
    "w_point = 0\n",
    "h_point = 0\n",
    "window_dim = [176, 200]\n",
    "video_path = '/Volumes/Omkar 5T/dataset/event_video_dataset/plants.mp4'\n",
    "save_path = '/Volumes/Omkar 5T/dataset/window_dataset/plants_0.mp4'"
   ]
  },
  {
   "cell_type": "code",
   "execution_count": 3,
   "metadata": {},
   "outputs": [
    {
     "name": "stdout",
     "output_type": "stream",
     "text": [
      "Extracted 38971 frames and saved to '/Volumes/Omkar 5T/dataset/window_dataset/plants_0.mp4'\n"
     ]
    }
   ],
   "source": [
    "vf.video_window(video_path, save_path, w_point, h_point, window_dim) "
   ]
  },
  {
   "cell_type": "code",
   "execution_count": 4,
   "metadata": {},
   "outputs": [
    {
     "name": "stdout",
     "output_type": "stream",
     "text": [
      "Extracted 38971 frames and saved to '/Volumes/Omkar 5T/dataset/window_dataset/plants_1.mp4'\n",
      "Extracted 38971 frames and saved to '/Volumes/Omkar 5T/dataset/window_dataset/plants_2.mp4'\n",
      "Extracted 38971 frames and saved to '/Volumes/Omkar 5T/dataset/window_dataset/plants_3.mp4'\n",
      "Extracted 38971 frames and saved to '/Volumes/Omkar 5T/dataset/window_dataset/plants_4.mp4'\n",
      "Extracted 38971 frames and saved to '/Volumes/Omkar 5T/dataset/window_dataset/plants_5.mp4'\n",
      "Extracted 38971 frames and saved to '/Volumes/Omkar 5T/dataset/window_dataset/plants_6.mp4'\n",
      "Extracted 38971 frames and saved to '/Volumes/Omkar 5T/dataset/window_dataset/plants_7.mp4'\n"
     ]
    }
   ],
   "source": [
    "w_point = 176\n",
    "h_point = 0\n",
    "window_dim = [176, 200]\n",
    "video_path = '/Volumes/Omkar 5T/dataset/event_video_dataset/plants.mp4'\n",
    "save_path = '/Volumes/Omkar 5T/dataset/window_dataset/plants_1.mp4'\n",
    "vf.video_window(video_path, save_path, w_point, h_point, window_dim)\n",
    "\n",
    "w_point = 352\n",
    "h_point = 0\n",
    "window_dim = [176, 200]\n",
    "video_path = '/Volumes/Omkar 5T/dataset/event_video_dataset/plants.mp4'\n",
    "save_path = '/Volumes/Omkar 5T/dataset/window_dataset/plants_2.mp4'\n",
    "vf.video_window(video_path, save_path, w_point, h_point, window_dim)\n",
    "\n",
    "w_point = 528\n",
    "h_point = 0\n",
    "window_dim = [176, 200]\n",
    "video_path = '/Volumes/Omkar 5T/dataset/event_video_dataset/plants.mp4'\n",
    "save_path = '/Volumes/Omkar 5T/dataset/window_dataset/plants_3.mp4'\n",
    "vf.video_window(video_path, save_path, w_point, h_point, window_dim)\n",
    "\n",
    "w_point = 0\n",
    "h_point = 200\n",
    "window_dim = [176, 200]\n",
    "video_path = '/Volumes/Omkar 5T/dataset/event_video_dataset/plants.mp4'\n",
    "save_path = '/Volumes/Omkar 5T/dataset/window_dataset/plants_4.mp4'\n",
    "vf.video_window(video_path, save_path, w_point, h_point, window_dim)\n",
    "\n",
    "w_point = 176\n",
    "h_point = 200\n",
    "window_dim = [176, 200]\n",
    "video_path = '/Volumes/Omkar 5T/dataset/event_video_dataset/plants.mp4'\n",
    "save_path = '/Volumes/Omkar 5T/dataset/window_dataset/plants_5.mp4'\n",
    "vf.video_window(video_path, save_path, w_point, h_point, window_dim)\n",
    "\n",
    "w_point = 352\n",
    "h_point = 200\n",
    "window_dim = [176, 200]\n",
    "video_path = '/Volumes/Omkar 5T/dataset/event_video_dataset/plants.mp4'\n",
    "save_path = '/Volumes/Omkar 5T/dataset/window_dataset/plants_6.mp4'\n",
    "vf.video_window(video_path, save_path, w_point, h_point, window_dim)\n",
    "\n",
    "w_point = 528\n",
    "h_point = 200\n",
    "window_dim = [176, 200]\n",
    "video_path = '/Volumes/Omkar 5T/dataset/event_video_dataset/plants.mp4'\n",
    "save_path = '/Volumes/Omkar 5T/dataset/window_dataset/plants_7.mp4'\n",
    "vf.video_window(video_path, save_path, w_point, h_point, window_dim)"
   ]
  }
 ],
 "metadata": {
  "kernelspec": {
   "display_name": "Python 3",
   "language": "python",
   "name": "python3"
  },
  "language_info": {
   "codemirror_mode": {
    "name": "ipython",
    "version": 3
   },
   "file_extension": ".py",
   "mimetype": "text/x-python",
   "name": "python",
   "nbconvert_exporter": "python",
   "pygments_lexer": "ipython3",
   "version": "3.9.6"
  }
 },
 "nbformat": 4,
 "nbformat_minor": 2
}
