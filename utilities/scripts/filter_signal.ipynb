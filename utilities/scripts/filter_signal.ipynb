{
 "cells": [
  {
   "cell_type": "markdown",
   "metadata": {},
   "source": [
    "# Filtering a Signal\n",
    "\n",
    "This script applies a butterworth high-pass or low-pass filter an audio array, and finally illustrates it as a time series plot and spectrogram."
   ]
  },
  {
   "cell_type": "code",
   "execution_count": 2,
   "metadata": {},
   "outputs": [
    {
     "ename": "ModuleNotFoundError",
     "evalue": "No module named 'utility_folders'",
     "output_type": "error",
     "traceback": [
      "\u001b[0;31m---------------------------------------------------------------------------\u001b[0m",
      "\u001b[0;31mModuleNotFoundError\u001b[0m                       Traceback (most recent call last)",
      "Cell \u001b[0;32mIn[2], line 8\u001b[0m\n\u001b[1;32m      6\u001b[0m \u001b[38;5;28;01mfrom\u001b[39;00m \u001b[38;5;21;01mscipy\u001b[39;00m\u001b[38;5;21;01m.\u001b[39;00m\u001b[38;5;21;01msignal\u001b[39;00m \u001b[38;5;28;01mimport\u001b[39;00m butter, filtfilt\n\u001b[1;32m      7\u001b[0m sys\u001b[38;5;241m.\u001b[39mpath\u001b[38;5;241m.\u001b[39minsert(\u001b[38;5;241m0\u001b[39m, \u001b[38;5;124m'\u001b[39m\u001b[38;5;124m/Users/omkarpatil/Documents/event_based_visual_microphone/utilities/\u001b[39m\u001b[38;5;124m'\u001b[39m)\n\u001b[0;32m----> 8\u001b[0m \u001b[38;5;28;01mimport\u001b[39;00m \u001b[38;5;21;01mutility_folders\u001b[39;00m \u001b[38;5;28;01mas\u001b[39;00m \u001b[38;5;21;01muf\u001b[39;00m\n\u001b[1;32m      9\u001b[0m \u001b[38;5;28;01mimport\u001b[39;00m \u001b[38;5;21;01mutility_spectrogram\u001b[39;00m \u001b[38;5;28;01mas\u001b[39;00m \u001b[38;5;21;01mus\u001b[39;00m\n",
      "\u001b[0;31mModuleNotFoundError\u001b[0m: No module named 'utility_folders'"
     ]
    }
   ],
   "source": [
    "import sys\n",
    "import numpy as np\n",
    "import soundfile as sf\n",
    "import sounddevice as sd\n",
    "import matplotlib.pyplot as plt\n",
    "from scipy.signal import butter, filtfilt\n",
    "sys.path.insert(0, '/Users/omkarpatil/Documents/event_based_visual_microphone/utilities/')\n",
    "import utility_folders as uf\n",
    "import utility_spectrogram as us"
   ]
  },
  {
   "cell_type": "markdown",
   "metadata": {},
   "source": [
    "<span style=\"color:red\"> Provide the filter's cut-off frequency, type, audio's sample rate and file path bellow: </span>\n",
    "\n",
    "There are 2 types of filters allowed by the code: `low` for low-pass or `high`for high-pass filter."
   ]
  },
  {
   "cell_type": "code",
   "execution_count": 3,
   "metadata": {},
   "outputs": [],
   "source": [
    "cutoff_freq = 140\n",
    "filter_type = 'high'\n",
    "sampling_rate = 20000\n",
    "file_path = '/Volumes/Omkar 5T/dataset/window_dataset/plants_selected.wav'"
   ]
  },
  {
   "cell_type": "markdown",
   "metadata": {},
   "source": [
    "The code bellow retrives the audio, applies a butterworth filter and nomalises the signal at the end."
   ]
  },
  {
   "cell_type": "code",
   "execution_count": 4,
   "metadata": {},
   "outputs": [
    {
     "ename": "NameError",
     "evalue": "name 'uf' is not defined",
     "output_type": "error",
     "traceback": [
      "\u001b[0;31m---------------------------------------------------------------------------\u001b[0m",
      "\u001b[0;31mNameError\u001b[0m                                 Traceback (most recent call last)",
      "Cell \u001b[0;32mIn[4], line 1\u001b[0m\n\u001b[0;32m----> 1\u001b[0m audio_data, _ \u001b[38;5;241m=\u001b[39m \u001b[43muf\u001b[49m\u001b[38;5;241m.\u001b[39mget_sound(file_path)\n\u001b[1;32m      3\u001b[0m nyq \u001b[38;5;241m=\u001b[39m \u001b[38;5;241m0.5\u001b[39m\u001b[38;5;241m*\u001b[39msampling_rate\n\u001b[1;32m      4\u001b[0m normal_cutoff \u001b[38;5;241m=\u001b[39m cutoff_freq\u001b[38;5;241m/\u001b[39mnyq\n",
      "\u001b[0;31mNameError\u001b[0m: name 'uf' is not defined"
     ]
    }
   ],
   "source": [
    "audio_data, _ = uf.get_sound(file_path)\n",
    "\n",
    "nyq = 0.5*sampling_rate\n",
    "normal_cutoff = cutoff_freq/nyq\n",
    "b, a = butter(10, normal_cutoff, btype=filter_type, analog=False)\n",
    "S_x = filtfilt(b, a, audio_data)\n",
    "\n",
    "nyq = 0.5*sampling_rate\n",
    "normal_cutoff = 1000/nyq\n",
    "b, a = butter(15, normal_cutoff, btype='low', analog=False)\n",
    "S_x = filtfilt(b, a, S_x)\n",
    "\n",
    "maxsx = np.max(S_x)\n",
    "minsx = np.min(S_x)\n",
    "if maxsx!=1.0 or minsx!=-1.0:\n",
    "    range_val = maxsx - minsx\n",
    "    S_x = 2*S_x/range_val\n",
    "    newmx = np.max(S_x)\n",
    "    offset = newmx-1.0\n",
    "    S_x = S_x-offset"
   ]
  },
  {
   "cell_type": "markdown",
   "metadata": {},
   "source": [
    "This part allows you to hear and visualise the filtered signal."
   ]
  },
  {
   "cell_type": "code",
   "execution_count": null,
   "metadata": {},
   "outputs": [],
   "source": [
    "us.show_signal(S_x, 'Filtered MIDI')\n",
    "us.show_spectrogram(S_x, sampling_rate, 256, 128, 'Filtered MIDI')\n",
    "uf.play_sound(S_x, sampling_rate)"
   ]
  },
  {
   "cell_type": "markdown",
   "metadata": {},
   "source": [
    "<span style=\"color:red\"> Provide a save path for the filtered signal bellow: </span>"
   ]
  },
  {
   "cell_type": "code",
   "execution_count": null,
   "metadata": {},
   "outputs": [],
   "source": [
    "save_path = '/Volumes/Omkar 5T/filtered_chips1.wav'"
   ]
  },
  {
   "cell_type": "markdown",
   "metadata": {},
   "source": [
    "This code saves the filtered signal."
   ]
  },
  {
   "cell_type": "code",
   "execution_count": null,
   "metadata": {},
   "outputs": [],
   "source": [
    "sf.write(file=save_path, data=S_x, samplerate=sampling_rate)"
   ]
  }
 ],
 "metadata": {
  "kernelspec": {
   "display_name": "Python 3",
   "language": "python",
   "name": "python3"
  },
  "language_info": {
   "codemirror_mode": {
    "name": "ipython",
    "version": 3
   },
   "file_extension": ".py",
   "mimetype": "text/x-python",
   "name": "python",
   "nbconvert_exporter": "python",
   "pygments_lexer": "ipython3",
   "version": "3.9.6"
  }
 },
 "nbformat": 4,
 "nbformat_minor": 2
}
