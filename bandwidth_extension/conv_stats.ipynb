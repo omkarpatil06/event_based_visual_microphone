{
 "cells": [
  {
   "cell_type": "code",
   "execution_count": 1,
   "metadata": {},
   "outputs": [],
   "source": [
    "block_size = 5"
   ]
  },
  {
   "cell_type": "code",
   "execution_count": 2,
   "metadata": {},
   "outputs": [],
   "source": [
    "def encoder_conv_layers(block_idx):\n",
    "    return max(2**(6+block_idx), 512)\n",
    "\n",
    "def encoder_conv_length(block_idx):\n",
    "    return min(2**(7-block_idx)+1, 9)\n",
    "\n",
    "def decoder_conv_layers(block_idx, block_size):\n",
    "    return max(2**(7+(block_size-block_idx+1)), 1024)\n",
    "\n",
    "def decoder_conv_length(block_idx, block_size):\n",
    "    return min(2**(7-(block_size-block_idx+1))+1, 9)"
   ]
  },
  {
   "cell_type": "code",
   "execution_count": 3,
   "metadata": {},
   "outputs": [
    {
     "name": "stdout",
     "output_type": "stream",
     "text": [
      "ENCODER\n",
      "Enoder Layer 1\n",
      "Encoder num filters: 512\n",
      "Encoder filter length: 9\n",
      "Enoder Layer 2\n",
      "Encoder num filters: 512\n",
      "Encoder filter length: 9\n",
      "Enoder Layer 3\n",
      "Encoder num filters: 512\n",
      "Encoder filter length: 9\n",
      "Enoder Layer 4\n",
      "Encoder num filters: 1024\n",
      "Encoder filter length: 9\n",
      "Enoder Layer 5\n",
      "Encoder num filters: 2048\n",
      "Encoder filter length: 5\n",
      "BOTTLENECK\n",
      "Bottleneck num filters: 4096\n",
      "Bottleneck filter length: 3\n",
      "DECODER\n",
      "Decoder Layer 1\n",
      "Encoder num filters: 4096\n",
      "Encoder filter length: 5\n",
      "Decoder Layer 2\n",
      "Encoder num filters: 2048\n",
      "Encoder filter length: 9\n",
      "Decoder Layer 3\n",
      "Encoder num filters: 1024\n",
      "Encoder filter length: 9\n",
      "Decoder Layer 4\n",
      "Encoder num filters: 1024\n",
      "Encoder filter length: 9\n",
      "Decoder Layer 5\n",
      "Encoder num filters: 1024\n",
      "Encoder filter length: 9\n"
     ]
    }
   ],
   "source": [
    "print('ENCODER')\n",
    "for idx in range(block_size):\n",
    "    b = idx+1\n",
    "    print(f'Enoder Layer {b}')\n",
    "    print(f'Encoder num filters: {encoder_conv_layers(b)}')\n",
    "    print(f'Encoder filter length: {encoder_conv_length(b)}')\n",
    "\n",
    "print('BOTTLENECK')\n",
    "print(f'Bottleneck num filters: {encoder_conv_layers(block_size+1)}')\n",
    "print(f'Bottleneck filter length: {encoder_conv_length(block_size+1)}')\n",
    "\n",
    "print('DECODER')\n",
    "for idx in range(block_size):\n",
    "    b = idx+1\n",
    "    print(f'Decoder Layer {b}')\n",
    "    print(f'Encoder num filters: {decoder_conv_layers(b, block_size)}')\n",
    "    print(f'Encoder filter length: {decoder_conv_length(b, block_size)}')"
   ]
  }
 ],
 "metadata": {
  "kernelspec": {
   "display_name": "Python 3",
   "language": "python",
   "name": "python3"
  },
  "language_info": {
   "codemirror_mode": {
    "name": "ipython",
    "version": 3
   },
   "file_extension": ".py",
   "mimetype": "text/x-python",
   "name": "python",
   "nbconvert_exporter": "python",
   "pygments_lexer": "ipython3",
   "version": "3.9.6"
  }
 },
 "nbformat": 4,
 "nbformat_minor": 2
}
