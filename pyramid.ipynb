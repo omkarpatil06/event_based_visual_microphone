{
 "cells": [
  {
   "cell_type": "markdown",
   "metadata": {},
   "source": [
    "# **Video to Sound**\n",
    "Using steerable pyramid phase frames to convert to sound."
   ]
  },
  {
   "cell_type": "code",
   "execution_count": 1,
   "metadata": {},
   "outputs": [],
   "source": [
    "import steerable_utils as pyramid"
   ]
  },
  {
   "cell_type": "code",
   "execution_count": 2,
   "metadata": {},
   "outputs": [],
   "source": [
    "import numpy as np\n",
    "from skimage import data\n",
    "\n",
    "np.random.seed(42)\n",
    "image1 = np.dot(data.astronaut(), [0.2126, 0.7152, 0.0722])\n",
    "image2 = np.clip(image1 + np.random.normal(3, 10, image1.shape), 0, 255).astype(np.uint8)\n",
    "image3 = np.clip(image2 + np.random.normal(3, 10, image2.shape), 0, 255).astype(np.uint8)\n",
    "image4 = np.clip(image3 - np.random.normal(3, 10, image3.shape), 0, 255).astype(np.uint8)\n",
    "image5 = np.clip(image4 - np.random.normal(3, 10, image4.shape), 0, 255).astype(np.uint8)\n",
    "images = np.array([image1, image2, image3, image4, image5])"
   ]
  },
  {
   "cell_type": "markdown",
   "metadata": {},
   "source": [
    "#### **Applying the algorithm**\n",
    "This algorithm generates a steerable pyramid and applies it to every frame of the video. The phase frame of each pyramid response is substracted with that of the inital frame response. \n",
    "\n",
    "These are then aligned and averaged using the remaining algorithm from in Davis et. al. paper."
   ]
  },
  {
   "cell_type": "code",
   "execution_count": 3,
   "metadata": {},
   "outputs": [],
   "source": [
    "signal = pyramid.video_to_sound(images)"
   ]
  }
 ],
 "metadata": {
  "kernelspec": {
   "display_name": "Python 3",
   "language": "python",
   "name": "python3"
  },
  "language_info": {
   "codemirror_mode": {
    "name": "ipython",
    "version": 3
   },
   "file_extension": ".py",
   "mimetype": "text/x-python",
   "name": "python",
   "nbconvert_exporter": "python",
   "pygments_lexer": "ipython3",
   "version": "3.9.6"
  }
 },
 "nbformat": 4,
 "nbformat_minor": 2
}
