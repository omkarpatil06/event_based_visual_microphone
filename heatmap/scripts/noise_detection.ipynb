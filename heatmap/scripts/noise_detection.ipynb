{
 "cells": [
  {
   "cell_type": "markdown",
   "metadata": {},
   "source": [
    "# Noise Predictor"
   ]
  },
  {
   "cell_type": "code",
   "execution_count": 1,
   "metadata": {},
   "outputs": [],
   "source": [
    "import sys\n",
    "sys.path.insert(0, '/Users/omkarpatil/Documents/GitHub/event_based_visual_microphone/heatmap/')\n",
    "import noise_detection as nd"
   ]
  },
  {
   "cell_type": "markdown",
   "metadata": {},
   "source": [
    "#### **Preparing Dataset**\n",
    "<span style=\"color:red\"> Provide the folder path to all noise audio samples and the dataset save path: </span>"
   ]
  },
  {
   "cell_type": "code",
   "execution_count": 2,
   "metadata": {},
   "outputs": [],
   "source": [
    "noise_folder_path = '/Volumes/Omkar 5T/dataset/heatmap_dataset/noise_audios/'\n",
    "signal_folder_path = '/Volumes/Omkar 5T/dataset/heatmap_dataset/noise_samples/'\n",
    "dataset_save_path = '/Volumes/Omkar 5T/dataset/heatmap_dataset/noise_pandas/noise_signal.csv'"
   ]
  },
  {
   "cell_type": "code",
   "execution_count": 3,
   "metadata": {},
   "outputs": [
    {
     "name": "stdout",
     "output_type": "stream",
     "text": [
      "Dataset saved to /Volumes/Omkar 5T/dataset/heatmap_dataset/noise_pandas/noise_signal.csv\n"
     ]
    }
   ],
   "source": [
    "nd.create_dataset(noise_folder_path, signal_folder_path, dataset_save_path)"
   ]
  },
  {
   "cell_type": "markdown",
   "metadata": {},
   "source": [
    "#### **Training Model**"
   ]
  },
  {
   "cell_type": "code",
   "execution_count": 4,
   "metadata": {},
   "outputs": [
    {
     "name": "stdout",
     "output_type": "stream",
     "text": [
      "Accuracy: 0.9824561403508771\n",
      "              precision    recall  f1-score   support\n",
      "\n",
      "           0       1.00      0.97      0.98       131\n",
      "           1       0.96      1.00      0.98        97\n",
      "\n",
      "    accuracy                           0.98       228\n",
      "   macro avg       0.98      0.98      0.98       228\n",
      "weighted avg       0.98      0.98      0.98       228\n",
      "\n"
     ]
    }
   ],
   "source": [
    "rf_model, scaler = nd.train_model(dataset_save_path)"
   ]
  },
  {
   "cell_type": "markdown",
   "metadata": {},
   "source": [
    "#### **Predict from Model**\n",
    "<span style=\"color:red\"> Provide the file path to audio signal for prediction: </span>"
   ]
  },
  {
   "cell_type": "code",
   "execution_count": 5,
   "metadata": {},
   "outputs": [],
   "source": [
    "file_path = '/Volumes/Omkar 5T/dataset/heatmap_dataset/selection_audio_chips1/selection_0.wav'"
   ]
  },
  {
   "cell_type": "code",
   "execution_count": 6,
   "metadata": {},
   "outputs": [
    {
     "name": "stdout",
     "output_type": "stream",
     "text": [
      "This audio has a signal :-)\n"
     ]
    },
    {
     "name": "stderr",
     "output_type": "stream",
     "text": [
      "/opt/homebrew/lib/python3.12/site-packages/sklearn/base.py:493: UserWarning: X does not have valid feature names, but GradientBoostingClassifier was fitted with feature names\n",
      "  warnings.warn(\n"
     ]
    }
   ],
   "source": [
    "prediction = nd.predict_model(rf_model, scaler, file_path)"
   ]
  },
  {
   "cell_type": "code",
   "execution_count": 8,
   "metadata": {},
   "outputs": [
    {
     "name": "stderr",
     "output_type": "stream",
     "text": [
      "/opt/homebrew/lib/python3.12/site-packages/sklearn/base.py:493: UserWarning: X does not have valid feature names, but GradientBoostingClassifier was fitted with feature names\n",
      "  warnings.warn(\n",
      "/opt/homebrew/lib/python3.12/site-packages/sklearn/base.py:493: UserWarning: X does not have valid feature names, but GradientBoostingClassifier was fitted with feature names\n",
      "  warnings.warn(\n",
      "/opt/homebrew/lib/python3.12/site-packages/sklearn/base.py:493: UserWarning: X does not have valid feature names, but GradientBoostingClassifier was fitted with feature names\n",
      "  warnings.warn(\n"
     ]
    },
    {
     "name": "stdout",
     "output_type": "stream",
     "text": [
      "/Volumes/Omkar 5T/dataset/heatmap_dataset/selection_audio_chips1/selection_0.wav: Signal Detected :-)\n",
      "/Volumes/Omkar 5T/dataset/heatmap_dataset/selection_audio_chips1/selection_1.wav: No Signal Detected :-(\n",
      "/Volumes/Omkar 5T/dataset/heatmap_dataset/selection_audio_chips1/selection_10.wav: No Signal Detected :-(\n"
     ]
    },
    {
     "name": "stderr",
     "output_type": "stream",
     "text": [
      "/opt/homebrew/lib/python3.12/site-packages/sklearn/base.py:493: UserWarning: X does not have valid feature names, but GradientBoostingClassifier was fitted with feature names\n",
      "  warnings.warn(\n",
      "/opt/homebrew/lib/python3.12/site-packages/sklearn/base.py:493: UserWarning: X does not have valid feature names, but GradientBoostingClassifier was fitted with feature names\n",
      "  warnings.warn(\n",
      "/opt/homebrew/lib/python3.12/site-packages/sklearn/base.py:493: UserWarning: X does not have valid feature names, but GradientBoostingClassifier was fitted with feature names\n",
      "  warnings.warn(\n"
     ]
    },
    {
     "name": "stdout",
     "output_type": "stream",
     "text": [
      "/Volumes/Omkar 5T/dataset/heatmap_dataset/selection_audio_chips1/selection_11.wav: No Signal Detected :-(\n",
      "/Volumes/Omkar 5T/dataset/heatmap_dataset/selection_audio_chips1/selection_12.wav: Signal Detected :-)\n",
      "/Volumes/Omkar 5T/dataset/heatmap_dataset/selection_audio_chips1/selection_13.wav: Signal Detected :-)\n"
     ]
    },
    {
     "name": "stderr",
     "output_type": "stream",
     "text": [
      "/opt/homebrew/lib/python3.12/site-packages/sklearn/base.py:493: UserWarning: X does not have valid feature names, but GradientBoostingClassifier was fitted with feature names\n",
      "  warnings.warn(\n",
      "/opt/homebrew/lib/python3.12/site-packages/sklearn/base.py:493: UserWarning: X does not have valid feature names, but GradientBoostingClassifier was fitted with feature names\n",
      "  warnings.warn(\n",
      "/opt/homebrew/lib/python3.12/site-packages/sklearn/base.py:493: UserWarning: X does not have valid feature names, but GradientBoostingClassifier was fitted with feature names\n",
      "  warnings.warn(\n"
     ]
    },
    {
     "name": "stdout",
     "output_type": "stream",
     "text": [
      "/Volumes/Omkar 5T/dataset/heatmap_dataset/selection_audio_chips1/selection_14.wav: No Signal Detected :-(\n",
      "/Volumes/Omkar 5T/dataset/heatmap_dataset/selection_audio_chips1/selection_15.wav: No Signal Detected :-(\n",
      "/Volumes/Omkar 5T/dataset/heatmap_dataset/selection_audio_chips1/selection_16.wav: Signal Detected :-)\n"
     ]
    },
    {
     "name": "stderr",
     "output_type": "stream",
     "text": [
      "/opt/homebrew/lib/python3.12/site-packages/sklearn/base.py:493: UserWarning: X does not have valid feature names, but GradientBoostingClassifier was fitted with feature names\n",
      "  warnings.warn(\n",
      "/opt/homebrew/lib/python3.12/site-packages/sklearn/base.py:493: UserWarning: X does not have valid feature names, but GradientBoostingClassifier was fitted with feature names\n",
      "  warnings.warn(\n",
      "/opt/homebrew/lib/python3.12/site-packages/sklearn/base.py:493: UserWarning: X does not have valid feature names, but GradientBoostingClassifier was fitted with feature names\n",
      "  warnings.warn(\n"
     ]
    },
    {
     "name": "stdout",
     "output_type": "stream",
     "text": [
      "/Volumes/Omkar 5T/dataset/heatmap_dataset/selection_audio_chips1/selection_17.wav: No Signal Detected :-(\n",
      "/Volumes/Omkar 5T/dataset/heatmap_dataset/selection_audio_chips1/selection_18.wav: No Signal Detected :-(\n",
      "/Volumes/Omkar 5T/dataset/heatmap_dataset/selection_audio_chips1/selection_19.wav: Signal Detected :-)\n"
     ]
    },
    {
     "name": "stderr",
     "output_type": "stream",
     "text": [
      "/opt/homebrew/lib/python3.12/site-packages/sklearn/base.py:493: UserWarning: X does not have valid feature names, but GradientBoostingClassifier was fitted with feature names\n",
      "  warnings.warn(\n",
      "/opt/homebrew/lib/python3.12/site-packages/sklearn/base.py:493: UserWarning: X does not have valid feature names, but GradientBoostingClassifier was fitted with feature names\n",
      "  warnings.warn(\n",
      "/opt/homebrew/lib/python3.12/site-packages/sklearn/base.py:493: UserWarning: X does not have valid feature names, but GradientBoostingClassifier was fitted with feature names\n",
      "  warnings.warn(\n"
     ]
    },
    {
     "name": "stdout",
     "output_type": "stream",
     "text": [
      "/Volumes/Omkar 5T/dataset/heatmap_dataset/selection_audio_chips1/selection_2.wav: Signal Detected :-)\n",
      "/Volumes/Omkar 5T/dataset/heatmap_dataset/selection_audio_chips1/selection_20.wav: No Signal Detected :-(\n",
      "/Volumes/Omkar 5T/dataset/heatmap_dataset/selection_audio_chips1/selection_21.wav: No Signal Detected :-(\n"
     ]
    },
    {
     "name": "stderr",
     "output_type": "stream",
     "text": [
      "/opt/homebrew/lib/python3.12/site-packages/sklearn/base.py:493: UserWarning: X does not have valid feature names, but GradientBoostingClassifier was fitted with feature names\n",
      "  warnings.warn(\n",
      "/opt/homebrew/lib/python3.12/site-packages/sklearn/base.py:493: UserWarning: X does not have valid feature names, but GradientBoostingClassifier was fitted with feature names\n",
      "  warnings.warn(\n",
      "/opt/homebrew/lib/python3.12/site-packages/sklearn/base.py:493: UserWarning: X does not have valid feature names, but GradientBoostingClassifier was fitted with feature names\n",
      "  warnings.warn(\n"
     ]
    },
    {
     "name": "stdout",
     "output_type": "stream",
     "text": [
      "/Volumes/Omkar 5T/dataset/heatmap_dataset/selection_audio_chips1/selection_22.wav: No Signal Detected :-(\n",
      "/Volumes/Omkar 5T/dataset/heatmap_dataset/selection_audio_chips1/selection_23.wav: No Signal Detected :-(\n",
      "/Volumes/Omkar 5T/dataset/heatmap_dataset/selection_audio_chips1/selection_24.wav: No Signal Detected :-(\n"
     ]
    },
    {
     "name": "stderr",
     "output_type": "stream",
     "text": [
      "/opt/homebrew/lib/python3.12/site-packages/sklearn/base.py:493: UserWarning: X does not have valid feature names, but GradientBoostingClassifier was fitted with feature names\n",
      "  warnings.warn(\n",
      "/opt/homebrew/lib/python3.12/site-packages/sklearn/base.py:493: UserWarning: X does not have valid feature names, but GradientBoostingClassifier was fitted with feature names\n",
      "  warnings.warn(\n",
      "/opt/homebrew/lib/python3.12/site-packages/sklearn/base.py:493: UserWarning: X does not have valid feature names, but GradientBoostingClassifier was fitted with feature names\n",
      "  warnings.warn(\n"
     ]
    },
    {
     "name": "stdout",
     "output_type": "stream",
     "text": [
      "/Volumes/Omkar 5T/dataset/heatmap_dataset/selection_audio_chips1/selection_25.wav: No Signal Detected :-(\n",
      "/Volumes/Omkar 5T/dataset/heatmap_dataset/selection_audio_chips1/selection_26.wav: No Signal Detected :-(\n",
      "/Volumes/Omkar 5T/dataset/heatmap_dataset/selection_audio_chips1/selection_27.wav: No Signal Detected :-(\n"
     ]
    },
    {
     "name": "stderr",
     "output_type": "stream",
     "text": [
      "/opt/homebrew/lib/python3.12/site-packages/sklearn/base.py:493: UserWarning: X does not have valid feature names, but GradientBoostingClassifier was fitted with feature names\n",
      "  warnings.warn(\n",
      "/opt/homebrew/lib/python3.12/site-packages/sklearn/base.py:493: UserWarning: X does not have valid feature names, but GradientBoostingClassifier was fitted with feature names\n",
      "  warnings.warn(\n",
      "/opt/homebrew/lib/python3.12/site-packages/sklearn/base.py:493: UserWarning: X does not have valid feature names, but GradientBoostingClassifier was fitted with feature names\n",
      "  warnings.warn(\n"
     ]
    },
    {
     "name": "stdout",
     "output_type": "stream",
     "text": [
      "/Volumes/Omkar 5T/dataset/heatmap_dataset/selection_audio_chips1/selection_28.wav: Signal Detected :-)\n",
      "/Volumes/Omkar 5T/dataset/heatmap_dataset/selection_audio_chips1/selection_29.wav: No Signal Detected :-(\n",
      "/Volumes/Omkar 5T/dataset/heatmap_dataset/selection_audio_chips1/selection_3.wav: No Signal Detected :-(\n"
     ]
    },
    {
     "name": "stderr",
     "output_type": "stream",
     "text": [
      "/opt/homebrew/lib/python3.12/site-packages/sklearn/base.py:493: UserWarning: X does not have valid feature names, but GradientBoostingClassifier was fitted with feature names\n",
      "  warnings.warn(\n",
      "/opt/homebrew/lib/python3.12/site-packages/sklearn/base.py:493: UserWarning: X does not have valid feature names, but GradientBoostingClassifier was fitted with feature names\n",
      "  warnings.warn(\n",
      "/opt/homebrew/lib/python3.12/site-packages/sklearn/base.py:493: UserWarning: X does not have valid feature names, but GradientBoostingClassifier was fitted with feature names\n",
      "  warnings.warn(\n"
     ]
    },
    {
     "name": "stdout",
     "output_type": "stream",
     "text": [
      "/Volumes/Omkar 5T/dataset/heatmap_dataset/selection_audio_chips1/selection_30.wav: No Signal Detected :-(\n",
      "/Volumes/Omkar 5T/dataset/heatmap_dataset/selection_audio_chips1/selection_31.wav: No Signal Detected :-(\n",
      "/Volumes/Omkar 5T/dataset/heatmap_dataset/selection_audio_chips1/selection_32.wav: No Signal Detected :-(\n"
     ]
    },
    {
     "name": "stderr",
     "output_type": "stream",
     "text": [
      "/opt/homebrew/lib/python3.12/site-packages/sklearn/base.py:493: UserWarning: X does not have valid feature names, but GradientBoostingClassifier was fitted with feature names\n",
      "  warnings.warn(\n",
      "/opt/homebrew/lib/python3.12/site-packages/sklearn/base.py:493: UserWarning: X does not have valid feature names, but GradientBoostingClassifier was fitted with feature names\n",
      "  warnings.warn(\n",
      "/opt/homebrew/lib/python3.12/site-packages/sklearn/base.py:493: UserWarning: X does not have valid feature names, but GradientBoostingClassifier was fitted with feature names\n",
      "  warnings.warn(\n"
     ]
    },
    {
     "name": "stdout",
     "output_type": "stream",
     "text": [
      "/Volumes/Omkar 5T/dataset/heatmap_dataset/selection_audio_chips1/selection_33.wav: Signal Detected :-)\n",
      "/Volumes/Omkar 5T/dataset/heatmap_dataset/selection_audio_chips1/selection_34.wav: Signal Detected :-)\n",
      "/Volumes/Omkar 5T/dataset/heatmap_dataset/selection_audio_chips1/selection_35.wav: No Signal Detected :-(\n"
     ]
    },
    {
     "name": "stderr",
     "output_type": "stream",
     "text": [
      "/opt/homebrew/lib/python3.12/site-packages/sklearn/base.py:493: UserWarning: X does not have valid feature names, but GradientBoostingClassifier was fitted with feature names\n",
      "  warnings.warn(\n",
      "/opt/homebrew/lib/python3.12/site-packages/sklearn/base.py:493: UserWarning: X does not have valid feature names, but GradientBoostingClassifier was fitted with feature names\n",
      "  warnings.warn(\n",
      "/opt/homebrew/lib/python3.12/site-packages/sklearn/base.py:493: UserWarning: X does not have valid feature names, but GradientBoostingClassifier was fitted with feature names\n",
      "  warnings.warn(\n"
     ]
    },
    {
     "name": "stdout",
     "output_type": "stream",
     "text": [
      "/Volumes/Omkar 5T/dataset/heatmap_dataset/selection_audio_chips1/selection_36.wav: No Signal Detected :-(\n",
      "/Volumes/Omkar 5T/dataset/heatmap_dataset/selection_audio_chips1/selection_37.wav: No Signal Detected :-(\n",
      "/Volumes/Omkar 5T/dataset/heatmap_dataset/selection_audio_chips1/selection_38.wav: No Signal Detected :-(\n"
     ]
    },
    {
     "name": "stderr",
     "output_type": "stream",
     "text": [
      "/opt/homebrew/lib/python3.12/site-packages/sklearn/base.py:493: UserWarning: X does not have valid feature names, but GradientBoostingClassifier was fitted with feature names\n",
      "  warnings.warn(\n",
      "/opt/homebrew/lib/python3.12/site-packages/sklearn/base.py:493: UserWarning: X does not have valid feature names, but GradientBoostingClassifier was fitted with feature names\n",
      "  warnings.warn(\n",
      "/opt/homebrew/lib/python3.12/site-packages/sklearn/base.py:493: UserWarning: X does not have valid feature names, but GradientBoostingClassifier was fitted with feature names\n",
      "  warnings.warn(\n"
     ]
    },
    {
     "name": "stdout",
     "output_type": "stream",
     "text": [
      "/Volumes/Omkar 5T/dataset/heatmap_dataset/selection_audio_chips1/selection_39.wav: No Signal Detected :-(\n",
      "/Volumes/Omkar 5T/dataset/heatmap_dataset/selection_audio_chips1/selection_4.wav: No Signal Detected :-(\n",
      "/Volumes/Omkar 5T/dataset/heatmap_dataset/selection_audio_chips1/selection_40.wav: No Signal Detected :-(\n"
     ]
    },
    {
     "name": "stderr",
     "output_type": "stream",
     "text": [
      "/opt/homebrew/lib/python3.12/site-packages/sklearn/base.py:493: UserWarning: X does not have valid feature names, but GradientBoostingClassifier was fitted with feature names\n",
      "  warnings.warn(\n",
      "/opt/homebrew/lib/python3.12/site-packages/sklearn/base.py:493: UserWarning: X does not have valid feature names, but GradientBoostingClassifier was fitted with feature names\n",
      "  warnings.warn(\n",
      "/opt/homebrew/lib/python3.12/site-packages/sklearn/base.py:493: UserWarning: X does not have valid feature names, but GradientBoostingClassifier was fitted with feature names\n",
      "  warnings.warn(\n"
     ]
    },
    {
     "name": "stdout",
     "output_type": "stream",
     "text": [
      "/Volumes/Omkar 5T/dataset/heatmap_dataset/selection_audio_chips1/selection_41.wav: No Signal Detected :-(\n",
      "/Volumes/Omkar 5T/dataset/heatmap_dataset/selection_audio_chips1/selection_42.wav: No Signal Detected :-(\n",
      "/Volumes/Omkar 5T/dataset/heatmap_dataset/selection_audio_chips1/selection_43.wav: No Signal Detected :-(\n"
     ]
    },
    {
     "name": "stderr",
     "output_type": "stream",
     "text": [
      "/opt/homebrew/lib/python3.12/site-packages/sklearn/base.py:493: UserWarning: X does not have valid feature names, but GradientBoostingClassifier was fitted with feature names\n",
      "  warnings.warn(\n",
      "/opt/homebrew/lib/python3.12/site-packages/sklearn/base.py:493: UserWarning: X does not have valid feature names, but GradientBoostingClassifier was fitted with feature names\n",
      "  warnings.warn(\n",
      "/opt/homebrew/lib/python3.12/site-packages/sklearn/base.py:493: UserWarning: X does not have valid feature names, but GradientBoostingClassifier was fitted with feature names\n",
      "  warnings.warn(\n"
     ]
    },
    {
     "name": "stdout",
     "output_type": "stream",
     "text": [
      "/Volumes/Omkar 5T/dataset/heatmap_dataset/selection_audio_chips1/selection_44.wav: No Signal Detected :-(\n",
      "/Volumes/Omkar 5T/dataset/heatmap_dataset/selection_audio_chips1/selection_45.wav: No Signal Detected :-(\n",
      "/Volumes/Omkar 5T/dataset/heatmap_dataset/selection_audio_chips1/selection_46.wav: Signal Detected :-)\n"
     ]
    },
    {
     "name": "stderr",
     "output_type": "stream",
     "text": [
      "/opt/homebrew/lib/python3.12/site-packages/sklearn/base.py:493: UserWarning: X does not have valid feature names, but GradientBoostingClassifier was fitted with feature names\n",
      "  warnings.warn(\n",
      "/opt/homebrew/lib/python3.12/site-packages/sklearn/base.py:493: UserWarning: X does not have valid feature names, but GradientBoostingClassifier was fitted with feature names\n",
      "  warnings.warn(\n",
      "/opt/homebrew/lib/python3.12/site-packages/sklearn/base.py:493: UserWarning: X does not have valid feature names, but GradientBoostingClassifier was fitted with feature names\n",
      "  warnings.warn(\n"
     ]
    },
    {
     "name": "stdout",
     "output_type": "stream",
     "text": [
      "/Volumes/Omkar 5T/dataset/heatmap_dataset/selection_audio_chips1/selection_47.wav: No Signal Detected :-(\n",
      "/Volumes/Omkar 5T/dataset/heatmap_dataset/selection_audio_chips1/selection_48.wav: No Signal Detected :-(\n",
      "/Volumes/Omkar 5T/dataset/heatmap_dataset/selection_audio_chips1/selection_49.wav: No Signal Detected :-(\n"
     ]
    },
    {
     "name": "stderr",
     "output_type": "stream",
     "text": [
      "/opt/homebrew/lib/python3.12/site-packages/sklearn/base.py:493: UserWarning: X does not have valid feature names, but GradientBoostingClassifier was fitted with feature names\n",
      "  warnings.warn(\n",
      "/opt/homebrew/lib/python3.12/site-packages/sklearn/base.py:493: UserWarning: X does not have valid feature names, but GradientBoostingClassifier was fitted with feature names\n",
      "  warnings.warn(\n",
      "/opt/homebrew/lib/python3.12/site-packages/sklearn/base.py:493: UserWarning: X does not have valid feature names, but GradientBoostingClassifier was fitted with feature names\n",
      "  warnings.warn(\n"
     ]
    },
    {
     "name": "stdout",
     "output_type": "stream",
     "text": [
      "/Volumes/Omkar 5T/dataset/heatmap_dataset/selection_audio_chips1/selection_5.wav: Signal Detected :-)\n",
      "/Volumes/Omkar 5T/dataset/heatmap_dataset/selection_audio_chips1/selection_6.wav: No Signal Detected :-(\n",
      "/Volumes/Omkar 5T/dataset/heatmap_dataset/selection_audio_chips1/selection_7.wav: No Signal Detected :-(\n",
      "/Volumes/Omkar 5T/dataset/heatmap_dataset/selection_audio_chips1/selection_8.wav: Signal Detected :-)\n",
      "/Volumes/Omkar 5T/dataset/heatmap_dataset/selection_audio_chips1/selection_9.wav: Signal Detected :-)\n"
     ]
    },
    {
     "name": "stderr",
     "output_type": "stream",
     "text": [
      "/opt/homebrew/lib/python3.12/site-packages/sklearn/base.py:493: UserWarning: X does not have valid feature names, but GradientBoostingClassifier was fitted with feature names\n",
      "  warnings.warn(\n",
      "/opt/homebrew/lib/python3.12/site-packages/sklearn/base.py:493: UserWarning: X does not have valid feature names, but GradientBoostingClassifier was fitted with feature names\n",
      "  warnings.warn(\n"
     ]
    }
   ],
   "source": [
    "folder_path = '/Volumes/Omkar 5T/dataset/heatmap_dataset/selection_audio_chips1/'\n",
    "results = nd.search_folder_for_signals(folder_path, rf_model, scaler)"
   ]
  }
 ],
 "metadata": {
  "kernelspec": {
   "display_name": "Python 3",
   "language": "python",
   "name": "python3"
  },
  "language_info": {
   "codemirror_mode": {
    "name": "ipython",
    "version": 3
   },
   "file_extension": ".py",
   "mimetype": "text/x-python",
   "name": "python",
   "nbconvert_exporter": "python",
   "pygments_lexer": "ipython3",
   "version": "3.12.5"
  }
 },
 "nbformat": 4,
 "nbformat_minor": 2
}
